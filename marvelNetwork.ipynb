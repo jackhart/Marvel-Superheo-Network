{
 "cells": [
  {
   "cell_type": "markdown",
   "metadata": {
    "_uuid": "8ade4b39ad8d776e952f40196842e2c2265d7322"
   },
   "source": [
    "# Basic Marvel Network Analysis\n",
    "By Jack Hart"
   ]
  },
  {
   "cell_type": "markdown",
   "metadata": {
    "_uuid": "2e35e7f26eef345b57cee1ffb90559283c698a21"
   },
   "source": [
    "## Initial Data Cleaning and Processing"
   ]
  },
  {
   "cell_type": "markdown",
   "metadata": {
    "_uuid": "33d008936900efb38a844ee146ab4fb89e46e899"
   },
   "source": [
    "### Import packages"
   ]
  },
  {
   "cell_type": "code",
   "execution_count": 1,
   "metadata": {
    "_uuid": "b40776ca09f9fb421e6323557e59a1d943bf4470"
   },
   "outputs": [
    {
     "data": {
      "text/html": [
       "<script type=\"text/javascript\">window.PlotlyConfig = {MathJaxConfig: 'local'};</script><script type=\"text/javascript\">if (window.MathJax) {MathJax.Hub.Config({SVG: {font: \"STIX-Web\"}});}</script><script>requirejs.config({paths: { 'plotly': ['https://cdn.plot.ly/plotly-latest.min']},});if(!window._Plotly) {require(['plotly'],function(plotly) {window._Plotly=plotly;});}</script>"
      ],
      "text/vnd.plotly.v1+html": [
       "<script type=\"text/javascript\">window.PlotlyConfig = {MathJaxConfig: 'local'};</script><script type=\"text/javascript\">if (window.MathJax) {MathJax.Hub.Config({SVG: {font: \"STIX-Web\"}});}</script><script>requirejs.config({paths: { 'plotly': ['https://cdn.plot.ly/plotly-latest.min']},});if(!window._Plotly) {require(['plotly'],function(plotly) {window._Plotly=plotly;});}</script>"
      ]
     },
     "metadata": {},
     "output_type": "display_data"
    }
   ],
   "source": [
    "\"\"\"\n",
    "@author: Jack Hart\n",
    "\"\"\"\n",
    "import numpy as np\n",
    "import pandas as pd\n",
    "import plotly\n",
    "import plotly.plotly as py\n",
    "import plotly.graph_objs as go\n",
    "import networkx as nx\n",
    "import itertools\n",
    "from collections import Counter\n",
    "import seaborn as sns\n",
    "import matplotlib.pyplot as plt\n",
    "from networkx.algorithms import community\n",
    "from plotly.offline import init_notebook_mode, iplot\n",
    "init_notebook_mode(connected=True)\n"
   ]
  },
  {
   "cell_type": "markdown",
   "metadata": {
    "_uuid": "996f98b7a247618cd2a8215d93677e8c5b916fe0"
   },
   "source": [
    "### Import Data"
   ]
  },
  {
   "cell_type": "code",
   "execution_count": 2,
   "metadata": {
    "_uuid": "7715050a43e4a5d1f799f17a8e4ebf59270e3185"
   },
   "outputs": [],
   "source": [
    "character_details = pd.read_csv('characters.csv', encoding='latin-1')\n",
    "\n",
    "#node/comics data\n",
    "comics = pd.read_csv('comics.csv', encoding='latin-1')\n",
    "\n",
    "#edge data\n",
    "edges_CharacterComic = pd.read_csv('charactersToComics.csv', encoding='latin-1')"
   ]
  },
  {
   "cell_type": "markdown",
   "metadata": {
    "_uuid": "12b3ab2abdafd82e1839d1b08a6bc00678e52bcf"
   },
   "source": [
    "### Group Comics by Issue\n",
    "There are multiple issues for many comics.  To create a more interesting network, I'll group comics of the same issue together."
   ]
  },
  {
   "cell_type": "code",
   "execution_count": null,
   "metadata": {
    "_uuid": "5ae48e7ae0b5b7928d90d902307bdc71e132c28b"
   },
   "outputs": [],
   "source": [
    "comics['cleanTitles'] = comics.title.str.split('#', expand = True)[0]\n",
    "      \n",
    "temp = comics.groupby(['cleanTitles']).size().reset_index()\n",
    "temp = temp.rename(columns={0: \"count\"})\n",
    "comics_unique = temp"
   ]
  },
  {
   "cell_type": "markdown",
   "metadata": {
    "_uuid": "9e3cd52b516c203fbfd3aae520a2f84444e4ea32"
   },
   "source": [
    "### Add Names to Edge List\n",
    "The edge dataframe only has the ids for characters and comics.  "
   ]
  },
  {
   "cell_type": "code",
   "execution_count": null,
   "metadata": {
    "_uuid": "f6a88ee996f77d61eae3a2d9efed8e480928fbab"
   },
   "outputs": [],
   "source": [
    "#create functions for apply\n",
    "def findComic(EdgeID, comicList):\n",
    "    return(comics['cleanTitles'][comicList.index(EdgeID)])\n",
    "\n",
    "def findCharacter(EdgeID, characterList):\n",
    "    return(character_details['name'][characterList.index(EdgeID)])\n",
    "\n",
    "#create names in the edges dataframe\n",
    "listofComics = list(comics['comicID'])\n",
    "edges_CharacterComic['comicName'] = edges_CharacterComic['comicID'].apply(lambda x: findComic(x,listofComics))\n",
    "\n",
    "listofCharacters = list(character_details['characterID'])\n",
    "edges_CharacterComic['characterName'] = edges_CharacterComic['characterID'].apply(lambda x: findCharacter(x,listofCharacters))"
   ]
  },
  {
   "cell_type": "markdown",
   "metadata": {
    "_uuid": "33acb83af28a219d70c71390236ca22d1493b08b"
   },
   "source": [
    "### Create List of Edges"
   ]
  },
  {
   "cell_type": "code",
   "execution_count": null,
   "metadata": {
    "_uuid": "bcff21b6be1dcc73135d40e89b2c6b2f6bb0ed1e"
   },
   "outputs": [],
   "source": [
    "#create edges list\n",
    "Edges=[(edges_CharacterComic['characterName'][k], edges_CharacterComic['comicName'][k]) for k in range(len(edges_CharacterComic))]\n",
    "\n",
    "#Remove duplicate edges created by \"cleaning\" comics to remove repeats\n",
    "Edges = list(set(Edges))"
   ]
  },
  {
   "cell_type": "markdown",
   "metadata": {
    "_uuid": "129e2fa43ed6205704c62d0bdd9d24417598286d"
   },
   "source": [
    "### Create Attribute Values for Nodes\n",
    "This code creates a list attribute values that distingish character nodes from comic nodes."
   ]
  },
  {
   "cell_type": "code",
   "execution_count": null,
   "metadata": {
    "_uuid": "1245714d46bf1ec0c17bfa60660253c391c9efed"
   },
   "outputs": [],
   "source": [
    "#list of labels and group type for nodes\n",
    "labels=[]\n",
    "group=dict()\n",
    "\n",
    "labels.extend(list(set(comics_unique['cleanTitles'])))\n",
    "for node in list(set(comics_unique['cleanTitles'])):\n",
    "    count = int(comics_unique[comics_unique['cleanTitles'] == node]['count'])\n",
    "    group[str(node)] = {'type': 'comic', 'count': count}\n",
    "\n",
    "labels.extend(list(set(character_details['name'])))\n",
    "for node in list(set(character_details['name'])):\n",
    "    group[str(node)] = {'type': 'character'}"
   ]
  },
  {
   "cell_type": "markdown",
   "metadata": {
    "_uuid": "48a0386ecb6574ad208b569b7fd36a9fb09f4f0e"
   },
   "source": [
    "## Character to Comic Network Creation, Analysis, and Plots"
   ]
  },
  {
   "cell_type": "markdown",
   "metadata": {
    "_uuid": "49f6350c96ebc95216b75caf8284111b235d641b"
   },
   "source": [
    "### Create Network with Networkx"
   ]
  },
  {
   "cell_type": "code",
   "execution_count": null,
   "metadata": {
    "_uuid": "a346211f62e4ed5a4b05b2254207a99eae1d17a4"
   },
   "outputs": [],
   "source": [
    "#create graph\n",
    "G=nx.Graph()\n",
    "\n",
    "#add nodes to graph\n",
    "G.add_nodes_from(labels)\n",
    "\n",
    "#add in node attributes\n",
    "nx.set_node_attributes(G, group)\n",
    "\n",
    "#add edges to graph\n",
    "G.add_edges_from(Edges)"
   ]
  },
  {
   "cell_type": "markdown",
   "metadata": {
    "_uuid": "12c54ff15dc58018aafff3b07c91c4ea82928937"
   },
   "source": [
    "This is too large to be efficiently computed with the spring_layout and kamada_kawai_layout functions. Remove nodes with low number of connections (and their edges)."
   ]
  },
  {
   "cell_type": "code",
   "execution_count": null,
   "metadata": {
    "_uuid": "081f6513c9333eebd9e7c771a79cac01b9af96b9"
   },
   "outputs": [],
   "source": [
    "#keep nodes with >10 degrees\n",
    "keep = [node for node,degree in G.degree() if degree > 10]\n",
    "keep = dict((k, G.node(data=True)[k]) for k in tuple(keep))\n",
    "\n",
    "#significantly decreased number of nodes\n",
    "print(G.number_of_nodes())\n",
    "print(len(keep))\n",
    "\n",
    "#create new (smaller) graph\n",
    "f = nx.Graph()                                                                                          \n",
    "fedges = filter(lambda x: G.degree()[x[0]] > 10 and G.degree()[x[1]] > 10, G.edges())\n",
    "f.add_nodes_from(keep)\n",
    "f.add_edges_from(fedges)\n",
    "nx.set_node_attributes(f, keep)\n",
    "\n",
    "#reduced the number of edges\n",
    "print(G.number_of_edges())\n",
    "print(f.number_of_edges())"
   ]
  },
  {
   "cell_type": "markdown",
   "metadata": {
    "_uuid": "a9f9b75ae9af794f42846b794811925d562b874f"
   },
   "source": [
    "Next, set the layouts for the 3-D and 2-D graphs"
   ]
  },
  {
   "cell_type": "code",
   "execution_count": null,
   "metadata": {
    "_uuid": "759bf59a207914af95e502a68023eb522071fc56"
   },
   "outputs": [],
   "source": [
    "#Set the 3-d layout type\n",
    "pos = nx.spring_layout(f, dim = 3)\n",
    "\n",
    "#Set the 2-d layout type\n",
    "pos_2 = nx.kamada_kawai_layout(f, dim = 2)"
   ]
  },
  {
   "cell_type": "markdown",
   "metadata": {
    "_uuid": "8227360c6d2b43b60370ac19ac180dd947dbc983"
   },
   "source": [
    "### Some Network Analysis\n",
    "First, look at the density of the graph.  The graph isn't very dense at all.  This makes sense, given character nodes can only be connected to comic nodes, and vice versa"
   ]
  },
  {
   "cell_type": "code",
   "execution_count": null,
   "metadata": {
    "_uuid": "4cbec68a8e2d8467b6474229127a094f4b01eabf"
   },
   "outputs": [],
   "source": [
    "#aveage density \n",
    "print(nx.density(G))"
   ]
  },
  {
   "cell_type": "markdown",
   "metadata": {
    "_uuid": "c7abf872f36869ba59c3e8152ea04feb69075d03"
   },
   "source": [
    "average clustering -- this will be 0 because all neighbors of a node will not be connected due to the nature of this graph"
   ]
  },
  {
   "cell_type": "code",
   "execution_count": null,
   "metadata": {
    "_uuid": "23c4e14eef05a6707834cb13814c4e4527f73dbd"
   },
   "outputs": [],
   "source": [
    "print(nx.average_clustering(G))\n",
    "#Therefore, connot use closeness centrality for determining important nodes"
   ]
  },
  {
   "cell_type": "markdown",
   "metadata": {
    "_uuid": "131534bb528ced0c968dab440c64eb126eabd557"
   },
   "source": [
    "#### Degree Analysis"
   ]
  },
  {
   "cell_type": "code",
   "execution_count": null,
   "metadata": {
    "_uuid": "888869b902fa92b69e3f7af9ffc7210f419c8c31"
   },
   "outputs": [],
   "source": [
    "#Create list of comic and character node names\n",
    "comicNodes = [x for x,y in f.nodes(data=True) if y['type'] == 'comic']\n",
    "characterNodes = [x for x,y in f.nodes(data=True) if y['type'] == 'character']\n",
    "\n",
    "#Create lists of comic and character node degrees\n",
    "comicdegrees = []\n",
    "comicOrder = []\n",
    "characterdegrees = []\n",
    "characterOrder = []\n",
    "for node, degree in G.degree():\n",
    "    if node in comicNodes:\n",
    "        comicdegrees.append(degree)\n",
    "        comicOrder.append(node)\n",
    "        \n",
    "    else:\n",
    "        characterdegrees.append(degree)\n",
    "        characterOrder.append(node)\n",
    "        \n",
    "#Count the frequency of degrrees and put them into dataframes\n",
    "comicCounts = Counter(comicdegrees)\n",
    "comicCounts = pd.DataFrame(list(dict(comicCounts).items()), columns=['degree', 'count']).sort_values(by=['degree'])\n",
    "\n",
    "characterCounts = Counter(characterdegrees)\n",
    "characterCounts = pd.DataFrame(list(dict(characterCounts).items()), columns=['degree', 'count']).sort_values(by=['degree'])"
   ]
  },
  {
   "cell_type": "markdown",
   "metadata": {
    "_uuid": "0ad574850a2c6b7f57e5913b499b38ed2f34b79b"
   },
   "source": [
    "Plot the degree frequencies of comic nodes and character nodes.  Characters have a much larger range of connections.  There is also a larger frequency of characters with lower degrees, compared to comics."
   ]
  },
  {
   "cell_type": "code",
   "execution_count": null,
   "metadata": {
    "_uuid": "e052578ed176ce010af240ed63c13ceaec1af905"
   },
   "outputs": [],
   "source": [
    "#Plot degrees\n",
    "trace_comic_degree = go.Scatter(\n",
    "    x = list(comicCounts['degree']),\n",
    "    y = list(comicCounts['count']),\n",
    "    mode = 'lines+markers',\n",
    "    name = 'Comics'\n",
    ")\n",
    "\n",
    "trace_character_degree = go.Scatter(\n",
    "    x = list(characterCounts['degree']),\n",
    "    y = list(characterCounts['count']),\n",
    "    mode = 'lines+markers',\n",
    "    name = 'Characters'\n",
    ")\n",
    "\n",
    "layout=go.Layout(\n",
    "    title=\"<b>Marvel Character To Comic Network Degrees\",\n",
    "    titlefont=dict(size=16),\n",
    "    showlegend=True,\n",
    "    hovermode='closest',\n",
    "    xaxis = dict(title = 'Degree (# of connections to node)', range=[0, 150]),\n",
    "    yaxis = dict(title = 'Count (the amount of nodes with a certain # of connections)', range=[0, 100]) )\n",
    "\n",
    "fig = go.Figure(data=[trace_comic_degree, trace_character_degree], layout = layout)\n",
    "\n",
    "#plot offline\n",
    "#plotly.offline.plot(fig, filename = \"DegreeLinePlot.html\")\n",
    "\n",
    "iplot(fig, filename='DegreeLinePlot')"
   ]
  },
  {
   "cell_type": "markdown",
   "metadata": {
    "_uuid": "f014feb40ee1cf8236a7a42bfd6598fad2ec46eb"
   },
   "source": [
    "The average degree of connectivity is the average number of connections a particular nodes' neighbors have.  The following plot compares a given nodes degree, to the average degree of its neighbors.\n",
    "\n",
    "There's a pretty significant difference in connectivity between nodes with a high degrees versus those with lower degrees.  Nodes with few connections tend to be connected to nodes with a high number of connections.  I'm assuming this can be explained by the principle behind the [friendship paradox](https://en.wikipedia.org/wiki/Friendship_paradox)."
   ]
  },
  {
   "cell_type": "code",
   "execution_count": null,
   "metadata": {
    "_uuid": "853b6fb976e763021a997429de708d2cb0f3b5da"
   },
   "outputs": [],
   "source": [
    "#average degree conections of neighbors for a node with given # of connections.\n",
    "conectivity = pd.DataFrame(list(nx.average_degree_connectivity(G).items()), columns=['degree', 'averagedegree']).sort_values(by=['degree'])\n",
    "\n",
    "#plot average degree conections\n",
    "trace_degree = go.Scatter(\n",
    "    x = list(conectivity['degree']),\n",
    "    y = list(conectivity['averagedegree']),\n",
    "    mode = 'lines+markers',\n",
    "    name = 'Average Degrees'\n",
    ")\n",
    "\n",
    "layout=go.Layout(\n",
    "    title=\"<b>Marvel Character To Comic Network: Average Degree of Neighbors for Nodes of Given Degree\",\n",
    "    titlefont=dict(size=16),\n",
    "    showlegend=False,\n",
    "    hovermode='closest',\n",
    "    xaxis = dict(title = 'Node Degree (# of connections to node)', range=[0, 200]),\n",
    "    yaxis = dict(title = \"Average Degree of Neighbors (aveage # of connections for a nodes neighbors)\", range=[0, 250]) )\n",
    "\n",
    "fig = go.Figure(data=[trace_degree], layout = layout)\n",
    "\n",
    "#plot offline\n",
    "#plotly.offline.plot(fig, filename = \"ConectivityLinePlot.html\")\n",
    "iplot(fig, filename='ConectivityLinePlot')"
   ]
  },
  {
   "cell_type": "markdown",
   "metadata": {
    "_uuid": "f42a5e092e4ce334c33c0b2e757efc7c19efb42b"
   },
   "source": [
    "Next, compare the comic and character nodes with the highest degree."
   ]
  },
  {
   "cell_type": "code",
   "execution_count": null,
   "metadata": {
    "_uuid": "f3e772399bd5fde5f69a58288352994ca72a0f13"
   },
   "outputs": [],
   "source": [
    "#Find comics and character nodes with greatest number of degrees\n",
    "comicsByDegree = pd.DataFrame({'comic': comicOrder, 'degree': comicdegrees}).sort_values(by=['degree'], ascending = False)\n",
    "charactersByDegree = pd.DataFrame({'character': characterOrder, 'degree': characterdegrees}).sort_values(by=['degree'], ascending = False)\n",
    "comicsByDegreeHead = comicsByDegree.head(15)\n",
    "charactersByDegreeHead = charactersByDegree.head(15)\n",
    "\n",
    "ax = sns.barplot(x=charactersByDegreeHead.degree, y=charactersByDegreeHead.character,\n",
    "                 palette=\"Blues_d\")\n",
    "ax.set(xlabel='Character', ylabel='Degree')\n",
    "plt.show()\n",
    "\n",
    "ax2 = sns.barplot(x=comicsByDegreeHead.degree, y=comicsByDegreeHead.comic,\n",
    "                 palette=\"Greens_d\")\n",
    "ax2.set(xlabel='Comic', ylabel='Degree')\n",
    "plt.show()"
   ]
  },
  {
   "cell_type": "markdown",
   "metadata": {
    "_uuid": "4f0730ff24e8b1b53070a2a0a90d9f41c0d19db1"
   },
   "source": [
    "### Plot 3-D Character to Comic Network\n",
    "First, create the edge trace."
   ]
  },
  {
   "cell_type": "code",
   "execution_count": null,
   "metadata": {
    "_uuid": "ebd2d415a4a552bc513f71e8d9cb2461e692a68e"
   },
   "outputs": [],
   "source": [
    "#create the edges\n",
    "edge_trace = go.Scatter3d(\n",
    "    x=[],\n",
    "    y=[],\n",
    "    z=[],\n",
    "    line=dict(width=1,color='#888'),\n",
    "    hoverinfo='none',\n",
    "    mode='lines')\n",
    "\n",
    "\n",
    "#apply functions for adding edge positions\n",
    "def returnxPositions(edge, formats):\n",
    "    return(tuple([formats[edge[0]][0],formats[edge[1]][0], None]))\n",
    "\n",
    "def returnyPositions(edge, formats):\n",
    "    return(tuple([formats[edge[0]][1],formats[edge[1]][1], None]))\n",
    "\n",
    "def returnzPositions(edge, formats):\n",
    "    return(tuple([formats[edge[0]][2],formats[edge[1]][2], None]))\n",
    "\n",
    "\n",
    "#add edge postions to trace\n",
    "edge_trace['x'] = tuple(itertools.chain(*pd.Series(f.edges()).apply(lambda x: returnxPositions(x,pos))))\n",
    "edge_trace['y'] = tuple(itertools.chain(*pd.Series(f.edges()).apply(lambda x: returnyPositions(x,pos))))\n",
    "edge_trace['z'] = tuple(itertools.chain(*pd.Series(f.edges()).apply(lambda x: returnzPositions(x,pos))))"
   ]
  },
  {
   "cell_type": "markdown",
   "metadata": {
    "_uuid": "7e13ad5ea1a41acccefde57e91d87dba8a6864cb"
   },
   "source": [
    "Next, create the node traces for comics and characters."
   ]
  },
  {
   "cell_type": "code",
   "execution_count": null,
   "metadata": {
    "_uuid": "39637d51e973dddd959ff1315a0363dcc6d83ccc"
   },
   "outputs": [],
   "source": [
    "#create the nodes for comics (with the color based on # of connections)\n",
    "node_trace_comic = go.Scatter3d(\n",
    "    x=[],\n",
    "    y=[],\n",
    "    z=[],\n",
    "    text=[],\n",
    "    mode='markers',\n",
    "    hoverinfo='text',\n",
    "    marker=dict(\n",
    "        showscale=True,\n",
    "        # colorscale options\n",
    "        #'Greys' | 'YlGnBu' | 'Greens' | 'YlOrRd' | 'Bluered' | 'RdBu' |\n",
    "        #'Reds' | 'Blues' | 'Picnic' | 'Rainbow' | 'Portland' | 'Jet' |\n",
    "        #'Hot' | 'Blackbody' | 'Earth' | 'Electric' | 'Viridis' |\n",
    "        colorscale='Greens',\n",
    "        reversescale=True,\n",
    "        color=[],\n",
    "        size=20,\n",
    "        colorbar=dict(\n",
    "            thickness=10,\n",
    "            title='Node Connections for Comics',\n",
    "            xanchor='left',\n",
    "            titleside='right'\n",
    "        ),\n",
    "        line=dict(width=2))    \n",
    "        )\n",
    "\n",
    "for node in comicNodes:\n",
    "    x, y, z = pos[node]\n",
    "    node_trace_comic['x'] += tuple([x])\n",
    "    node_trace_comic['y'] += tuple([y])\n",
    "    node_trace_comic['z'] += tuple([z])\n",
    "    \n",
    "for node, adjacencies in f.adjacency():\n",
    "    if(node in comicNodes):\n",
    "        node_trace_comic['marker']['color']+=tuple([len(adjacencies)])\n",
    "        node_info = ('Comic: {comic}<br>'+ '# of Issues: {issues}<br>'+\n",
    "         '# of connections: {connections}<br>').format(comic = str(node),\n",
    "                                                       issues = keep[node]['count'],\n",
    "                                                       connections = str(len(adjacencies)))\n",
    "        node_trace_comic['text']+=tuple([node_info])\n",
    "\n",
    "\n",
    "\n",
    "#create the nodes for characters (with the color based on # of connections)\n",
    "node_trace_character = go.Scatter3d(\n",
    "    x=[],\n",
    "    y=[],\n",
    "    z=[],\n",
    "    text=[],\n",
    "    mode='markers',\n",
    "    hoverinfo='text',\n",
    "    marker=dict(\n",
    "        showscale=True,\n",
    "        # colorscale options\n",
    "        #'Greys' | 'YlGnBu' | 'Greens' | 'YlOrRd' | 'Bluered' | 'RdBu' |\n",
    "        #'Reds' | 'Blues' | 'Picnic' | 'Rainbow' | 'Portland' | 'Jet' |\n",
    "        #'Hot' | 'Blackbody' | 'Earth' | 'Electric' | 'Viridis' |\n",
    "        colorscale='Blues',\n",
    "        reversescale=True,\n",
    "        color=[],\n",
    "        size=20,\n",
    "        colorbar=dict(\n",
    "            thickness=10,\n",
    "            title='Node Connections for Characters',\n",
    "            xanchor='right',\n",
    "            titleside='right'\n",
    "        ),\n",
    "        line=dict(width=2))    \n",
    "        )\n",
    "\n",
    "\n",
    "for node in characterNodes:\n",
    "    x, y, z = pos[node]\n",
    "    node_trace_character['x'] += tuple([x])\n",
    "    node_trace_character['y'] += tuple([y])\n",
    "    node_trace_character['z'] += tuple([z])\n",
    "\n",
    "for node, adjacencies in f.adjacency():\n",
    "    if(node in characterNodes):\n",
    "        node_trace_character['marker']['color']+=tuple([len(adjacencies)])\n",
    "        node_info = ('Character: {character}<br>'+ '# of connections: {connections}<br>').format(\n",
    "                     character = str(node),\n",
    "                     connections = str(len(adjacencies)))\n",
    "        node_trace_character['text']+=tuple([node_info])\n",
    "        \n",
    "        #node_info = str(node) + ': # of connections = '+str(len(adjacencies))\n",
    "        #node_trace_character['text']+=tuple([node_info])\n",
    "    \n"
   ]
  },
  {
   "cell_type": "markdown",
   "metadata": {
    "_uuid": "c027dd35623fa012971157ea1194a15486c4f375"
   },
   "source": [
    "Finally, create the layout and plot."
   ]
  },
  {
   "cell_type": "code",
   "execution_count": null,
   "metadata": {
    "_uuid": "cc9dc3dd50077cd4464a6f52a446de087e8cf18a"
   },
   "outputs": [],
   "source": [
    "#create the layout\n",
    "layout=go.Layout(\n",
    "    title=\"<b>Marvel Network: Characters' Relationships to Comics\",\n",
    "    titlefont=dict(size=16),\n",
    "    showlegend=False,\n",
    "    hovermode='closest',\n",
    "    margin=dict(b=20,l=5,r=5,t=40),\n",
    "    xaxis=dict(showgrid=False, zeroline=False, showticklabels=False),\n",
    "    yaxis=dict(showgrid=False, zeroline=False, showticklabels=False)\n",
    "    )\n",
    "\n",
    "\n",
    "#combine\n",
    "fig = go.Figure(data=[edge_trace, node_trace_character, node_trace_comic], layout = layout)\n",
    "\n",
    "#plot offline\n",
    "#plotly.offline.plot(fig, filename = \"SuperHeroComicNetwork.html\")\n",
    "iplot(fig, filename='SuperHeroComicNetwork')"
   ]
  },
  {
   "cell_type": "markdown",
   "metadata": {
    "_uuid": "20cee4c4e3c6b451942ffaff48c31611eb537c95"
   },
   "source": [
    "### Plot 2-D Character to Comic Network\n",
    "Creation of the traces and layout follows a similar process. "
   ]
  },
  {
   "cell_type": "code",
   "execution_count": null,
   "metadata": {
    "_uuid": "b5736c8575b016f06780cb3939b49e6d418fc37b"
   },
   "outputs": [],
   "source": [
    "#create the edges\n",
    "edge_trace2 = go.Scatter(\n",
    "    x=[],\n",
    "    y=[],\n",
    "    line=dict(width=.3,color='#888'),\n",
    "    hoverinfo='none',\n",
    "    mode='lines')\n",
    "\n",
    "#add edge postions to trace\n",
    "edge_trace2['x'] = tuple(itertools.chain(*pd.Series(f.edges()).apply(lambda x: returnxPositions(x,pos_2))))\n",
    "edge_trace2['y'] = tuple(itertools.chain(*pd.Series(f.edges()).apply(lambda x: returnyPositions(x,pos_2))))\n",
    "\n",
    "#create the nodes for comics (with the color based on # of connections)\n",
    "node_trace_comic_2 = go.Scatter(\n",
    "    x=[],\n",
    "    y=[],\n",
    "    text=[],\n",
    "    mode='markers',\n",
    "    hoverinfo='text',\n",
    "    marker=dict(\n",
    "        showscale=True,\n",
    "        # colorscale options\n",
    "        #'Greys' | 'YlGnBu' | 'Greens' | 'YlOrRd' | 'Bluered' | 'RdBu' |\n",
    "        #'Reds' | 'Blues' | 'Picnic' | 'Rainbow' | 'Portland' | 'Jet' |\n",
    "        #'Hot' | 'Blackbody' | 'Earth' | 'Electric' | 'Viridis' |\n",
    "        colorscale='Greens',\n",
    "        reversescale=True,\n",
    "        color=[],\n",
    "        size=20,\n",
    "        colorbar=dict(\n",
    "            thickness=10,\n",
    "            title='Node Connections for Comics',\n",
    "            xanchor='left',\n",
    "            titleside='right'\n",
    "        ),\n",
    "        line=dict(width=2))    \n",
    "        )\n",
    "\n",
    "for node in comicNodes:\n",
    "    x, y = pos_2[node]\n",
    "    node_trace_comic_2['x'] += tuple([x])\n",
    "    node_trace_comic_2['y'] += tuple([y])\n",
    "    \n",
    "for node, adjacencies in f.adjacency():\n",
    "    if(node in comicNodes):\n",
    "        node_trace_comic_2['marker']['color']+=tuple([len(adjacencies)])\n",
    "        node_info = ('Comic: {comic}<br>'+ '# of Issues: {issues}<br>'+\n",
    "         '# of connections: {connections}<br>').format(comic = str(node),\n",
    "                                                       issues = keep[node]['count'],\n",
    "                                                       connections = str(len(adjacencies)))\n",
    "        node_trace_comic_2['text']+=tuple([node_info])\n",
    "\n",
    "\n",
    "#create the nodes for characters (with the color based on # of connections)\n",
    "node_trace_character_2 = go.Scatter(\n",
    "    x=[],\n",
    "    y=[],\n",
    "    text=[],\n",
    "    mode='markers',\n",
    "    hoverinfo='text',\n",
    "    marker=dict(\n",
    "        showscale=True,\n",
    "        # colorscale options\n",
    "        #'Greys' | 'YlGnBu' | 'Greens' | 'YlOrRd' | 'Bluered' | 'RdBu' |\n",
    "        #'Reds' | 'Blues' | 'Picnic' | 'Rainbow' | 'Portland' | 'Jet' |\n",
    "        #'Hot' | 'Blackbody' | 'Earth' | 'Electric' | 'Viridis' |\n",
    "        colorscale='Blues',\n",
    "        reversescale=True,\n",
    "        color=[],\n",
    "        size=20,\n",
    "        colorbar=dict(\n",
    "            thickness=10,\n",
    "            title='Node Connections for Characters',\n",
    "            xanchor='right',\n",
    "            titleside='right'\n",
    "        ),\n",
    "        line=dict(width=2))    \n",
    "        )\n",
    "\n",
    "for node in characterNodes:\n",
    "    x, y = pos_2[node]\n",
    "    node_trace_character_2['x'] += tuple([x])\n",
    "    node_trace_character_2['y'] += tuple([y])\n",
    "\n",
    "for node, adjacencies in f.adjacency():\n",
    "    if(node in characterNodes):\n",
    "        node_trace_character_2['marker']['color']+=tuple([len(adjacencies)])\n",
    "        node_info = ('Character: {character}<br>'+ '# of connections: {connections}<br>').format(\n",
    "                     character = str(node),\n",
    "                     connections = str(len(adjacencies)))\n",
    "        node_trace_character_2['text']+=tuple([node_info])\n",
    "\n",
    "\n",
    "#create the layout\n",
    "layout=go.Layout(\n",
    "    title=\"<b>Marvel Network: Characters' Relationships to Comics\",\n",
    "    titlefont=dict(size=16),\n",
    "    showlegend=False,\n",
    "    hovermode='closest',\n",
    "    margin=dict(b=20,l=5,r=5,t=40),\n",
    "    xaxis=dict(showgrid=False, zeroline=False, showticklabels=False),\n",
    "    yaxis=dict(showgrid=False, zeroline=False, showticklabels=False),\n",
    "    annotations=[\n",
    "        dict(\n",
    "        showarrow=False,\n",
    "        text=\"Original network had 10193 nodes and 23402 edges. <br> For simplicity, this is a network contains only the nodes of the original network with greater than 10 connections. \",\n",
    "        xref='paper',\n",
    "        yref='paper',\n",
    "        x=0,\n",
    "        y=0.05,\n",
    "        xanchor='left',\n",
    "        yanchor='bottom',\n",
    "        font=dict(\n",
    "        size=14\n",
    "        ))]\n",
    "    )\n",
    "\n",
    "\n",
    "#combine\n",
    "fig2 = go.Figure(data=[edge_trace2, node_trace_character_2, node_trace_comic_2], layout = layout)\n",
    "\n",
    "#plot offline\n",
    "#plotly.offline.plot(fig2, filename = \"SuperHeroComicNetwork2D.html\")\n",
    "\n",
    "iplot(fig2, filename='SuperHeroComicNetwork2D')"
   ]
  },
  {
   "cell_type": "markdown",
   "metadata": {
    "_uuid": "661a2dc32d44fc38ca31c8166108e49b22c86431"
   },
   "source": [
    "## Character to Character Network Creation, Analysis, and Plots"
   ]
  },
  {
   "cell_type": "markdown",
   "metadata": {
    "_uuid": "8bc9d269d55c48d3e6720d80a072ab4b847bc64f"
   },
   "source": [
    "### Process Data for Network\n",
    "The data is formatted to show the relationship between comics and characters.  This code sorts through all of the edges to create a new network that removes the comics and shows the direct realtionships between characters."
   ]
  },
  {
   "cell_type": "code",
   "execution_count": null,
   "metadata": {
    "_uuid": "8c69b419c4793dc60daca0968fdd1f82ebee52ce"
   },
   "outputs": [],
   "source": [
    "#create a sorted numpy array\n",
    "numpyEdges = edges_CharacterComic.sort_values(by=['comicID']).values\n",
    "\n",
    "#sort into separte arrays by comic connection ~45 seconds\n",
    "x = numpyEdges[:,[2,3]]\n",
    "y = [x[x[:,0]==k] for k in np.unique(x[:,0])]\n",
    "\n",
    "#create a list of lists that have combinations for each comic\n",
    "lists = [list(itertools.combinations(y[x][:,1],2)) for x in range(len(y))]\n",
    "\n",
    "#put all into 1 list\n",
    "Allcombinations = [item for sublist in lists for item in sublist]\n",
    "\n",
    "#get only unique combinations\n",
    "combinations = list(set(tuple(sorted(p)) for p in Allcombinations)) \n",
    "\n",
    "#remove edges with same nodes\n",
    "combinations = [ (a,b) for a,b in combinations if a != b] \n",
    "\n",
    "#create a pandas dataframe\n",
    "hero_edges = pd.DataFrame(combinations, columns=['char1', 'char2'])"
   ]
  },
  {
   "cell_type": "markdown",
   "metadata": {
    "_uuid": "f4d5e1f4531c07f2bce68fae337d3ea777ceabc6"
   },
   "source": [
    "### Create Network with Networkx\n",
    "Create the network object and set the layouts"
   ]
  },
  {
   "cell_type": "code",
   "execution_count": null,
   "metadata": {
    "_uuid": "5e820edfd2db4f59e3f6bf10eae1ae92222bbeb3"
   },
   "outputs": [],
   "source": [
    "#Create list of character (node) names\n",
    "labels2 = list(set(character_details['name']))\n",
    "\n",
    "#create graph\n",
    "G2=nx.Graph()\n",
    "\n",
    "#add nodes to graph\n",
    "G2.add_nodes_from(labels2)\n",
    "\n",
    "#add edges to graph\n",
    "G2.add_edges_from(combinations)"
   ]
  },
  {
   "cell_type": "markdown",
   "metadata": {
    "_uuid": "ef8e1d796d22405299c9fce09f64c835d9fdc04f"
   },
   "source": [
    "I was able to generate the entire graph in previous versions (view previous commits).  However, the network is too large to not lag in plotly and the notebook.   Therefore, the actual network will be created based on a subset that contains the nodes with the most connections."
   ]
  },
  {
   "cell_type": "code",
   "execution_count": null,
   "metadata": {
    "_uuid": "92183dfbcbc44af9ca0d95d63953ff425662109b"
   },
   "outputs": [],
   "source": [
    "#keep nodes with >10 degrees\n",
    "keep2 = [node for node,degree in G2.degree() if degree > 50]\n",
    "keep2 = dict((k, G2.node(data=True)[k]) for k in tuple(keep2))\n",
    "\n",
    "#significantly decreased number of nodes\n",
    "print(G2.number_of_nodes())\n",
    "print(len(keep2))\n",
    "\n",
    "#create new (smaller) graph\n",
    "f2 = nx.Graph()                                                                                          \n",
    "fedges = filter(lambda x: G.degree()[x[0]] > 50 and G2.degree()[x[1]] > 50, G2.edges())\n",
    "f2.add_nodes_from(keep2)\n",
    "f2.add_edges_from(fedges)\n",
    "nx.set_node_attributes(f2, keep2)\n",
    "\n",
    "#reduced the number of edges\n",
    "print(G2.number_of_edges())\n",
    "print(f2.number_of_edges())"
   ]
  },
  {
   "cell_type": "code",
   "execution_count": null,
   "metadata": {
    "_uuid": "7334c375b60cb134d19d36748bb07fab79adf52e",
    "scrolled": true
   },
   "outputs": [],
   "source": [
    "#Remove nodes with no connections\n",
    "f2.remove_nodes_from(list(nx.isolates(f2)))\n"
   ]
  },
  {
   "cell_type": "markdown",
   "metadata": {
    "_uuid": "9fac55ee21cd3503125b753c92b7e891f8255027"
   },
   "source": [
    "### Create Network layout"
   ]
  },
  {
   "cell_type": "code",
   "execution_count": null,
   "metadata": {
    "_uuid": "ef9a42494f76225c62276328a43fc33138bcc9b1"
   },
   "outputs": [],
   "source": [
    "#Set the 3-d layout type\n",
    "pos_3 = nx.spring_layout(f2, dim = 3)\n",
    "\n",
    "#Set the 2-d layout type \n",
    "pos_4 = nx.kamada_kawai_layout(f2, dim = 2)"
   ]
  },
  {
   "cell_type": "markdown",
   "metadata": {
    "_uuid": "7bc6d5e40cfdc22b03107c7dbadf6b186bc67d05"
   },
   "source": [
    "### Plot 3-D Character to Character Network"
   ]
  },
  {
   "cell_type": "code",
   "execution_count": null,
   "metadata": {
    "_uuid": "74a58432a5cc3eef582de4f8fdfb09306dbfed41"
   },
   "outputs": [],
   "source": [
    "#create the edges\n",
    "edge_trace_4 = go.Scatter3d(\n",
    "    x=[],\n",
    "    y=[],\n",
    "    z=[],\n",
    "    line=dict(width=1,color='#888'),\n",
    "    hoverinfo='none',\n",
    "    mode='lines')\n",
    "\n",
    "#add edge postions to trace\n",
    "edge_trace_4['x'] = tuple(itertools.chain(*pd.Series(f2.edges()).apply(lambda x: returnxPositions(x,pos_3))))\n",
    "edge_trace_4['y'] = tuple(itertools.chain(*pd.Series(f2.edges()).apply(lambda x: returnyPositions(x,pos_3))))\n",
    "edge_trace_4['z'] = tuple(itertools.chain(*pd.Series(f2.edges()).apply(lambda x: returnzPositions(x,pos_3))))\n",
    "\n",
    "\n",
    "#create the nodes (with the color based on # of connections)\n",
    "node_trace_4 = go.Scatter3d(\n",
    "    x=[],\n",
    "    y=[],\n",
    "    z=[],\n",
    "    text=[],\n",
    "    mode='markers',\n",
    "    hoverinfo='text',\n",
    "    marker=dict(\n",
    "        showscale=True,\n",
    "        # colorscale options\n",
    "        #'Greys' | 'YlGnBu' | 'Greens' | 'YlOrRd' | 'Bluered' | 'RdBu' |\n",
    "        #'Reds' | 'Blues' | 'Picnic' | 'Rainbow' | 'Portland' | 'Jet' |\n",
    "        #'Hot' | 'Blackbody' | 'Earth' | 'Electric' | 'Viridis' |\n",
    "        colorscale='Blues',\n",
    "        reversescale=True,\n",
    "        color=[],\n",
    "        size=20,\n",
    "        colorbar=dict(\n",
    "            thickness=10,\n",
    "            title='Node Connections',\n",
    "            xanchor='right',\n",
    "            titleside='right'\n",
    "        ),\n",
    "        line=dict(width=2))    \n",
    "        )\n",
    "\n",
    "characterNodes = [x for x,y in f2.nodes(data=True)]\n",
    "for node in characterNodes:\n",
    "    x, y, z = pos_3[node]\n",
    "    node_trace_4['x'] += tuple([x])\n",
    "    node_trace_4['y'] += tuple([y])\n",
    "    node_trace_4['z'] += tuple([z])\n",
    "\n",
    "for node, adjacencies in f2.adjacency():\n",
    "    if(node in characterNodes):\n",
    "        node_trace_4['marker']['color']+=tuple([len(adjacencies)])\n",
    "        node_info = ('Character: {character}<br>'+ '# of connections: {connections}<br>').format(\n",
    "                     character = str(node),\n",
    "                     connections = str(len(adjacencies)))\n",
    "        node_trace_4['text']+=tuple([node_info])\n",
    "\n",
    "#create the layout\n",
    "layout=go.Layout(\n",
    "    title=\"<b>Marvel Network: Hero Relationships\",\n",
    "    titlefont=dict(size=16),\n",
    "    showlegend=False,\n",
    "    hovermode='closest',\n",
    "    margin=dict(b=20,l=5,r=5,t=40),\n",
    "    xaxis=dict(showgrid=False, zeroline=False, showticklabels=False),\n",
    "    yaxis=dict(showgrid=False, zeroline=False, showticklabels=False)\n",
    "    )\n",
    "\n",
    "#combine\n",
    "fig = go.Figure(data=[edge_trace_4, node_trace_4], layout = layout)\n",
    "\n",
    "#plot offline\n",
    "#plotly.offline.plot(fig, filename = \"SuperHeroNetwork3D.html\")\n",
    "\n",
    "iplot(fig, filename='SuperHeroNetwork3D')"
   ]
  },
  {
   "cell_type": "markdown",
   "metadata": {
    "_uuid": "3e667cdda7d97d1157def158c1512539ce993c2a"
   },
   "source": [
    "### Plot 2-D Character to Character Network"
   ]
  },
  {
   "cell_type": "code",
   "execution_count": null,
   "metadata": {
    "_uuid": "c43e7bfe42ba63d01016c9fad354ec86d1076ab4"
   },
   "outputs": [],
   "source": [
    "#create the edges\n",
    "edge_trace3 = go.Scatter(\n",
    "    x=[],\n",
    "    y=[],\n",
    "    line=dict(width=.3,color='#888'),\n",
    "    hoverinfo='none',\n",
    "    mode='lines')\n",
    "\n",
    "#add edge postions to trace\n",
    "edge_trace3['x'] = tuple(itertools.chain(*pd.Series(f2.edges()).apply(lambda x: returnxPositions(x, pos_4))))\n",
    "edge_trace3['y'] = tuple(itertools.chain(*pd.Series(f2.edges()).apply(lambda x: returnyPositions(x, pos_4))))\n",
    "\n",
    "\n",
    "#create the nodes (with the color based on # of connections)\n",
    "node_trace_3 = go.Scatter(\n",
    "    x=[],\n",
    "    y=[],\n",
    "    text=[],\n",
    "    mode='markers',\n",
    "    hoverinfo='text',\n",
    "    marker=dict(\n",
    "        showscale=True,\n",
    "        # colorscale options\n",
    "        #'Greys' | 'YlGnBu' | 'Greens' | 'YlOrRd' | 'Bluered' | 'RdBu' |\n",
    "        #'Reds' | 'Blues' | 'Picnic' | 'Rainbow' | 'Portland' | 'Jet' |\n",
    "        #'Hot' | 'Blackbody' | 'Earth' | 'Electric' | 'Viridis' |\n",
    "        colorscale='Blues',\n",
    "        reversescale=True,\n",
    "        color=[],\n",
    "        size=20,\n",
    "        colorbar=dict(\n",
    "            thickness=10,\n",
    "            title='Node Connections',\n",
    "            xanchor='right',\n",
    "            titleside='right'\n",
    "        ),\n",
    "        line=dict(width=2))    \n",
    "        )\n",
    "\n",
    "characterNodes = [x for x,y in f2.nodes(data=True)]\n",
    "\n",
    "for node in characterNodes:\n",
    "    x, y = pos_4[node]\n",
    "    node_trace_3['x'] += tuple([x])\n",
    "    node_trace_3['y'] += tuple([y])\n",
    "\n",
    "for node, adjacencies in f2.adjacency():\n",
    "        node_trace_3['marker']['color']+=tuple([len(adjacencies)])\n",
    "        node_info = ('Character: {character}<br>'+ '# of connections: {connections}<br>').format(\n",
    "                     character = str(node),\n",
    "                     connections = str(len(adjacencies)))\n",
    "        node_trace_3['text']+=tuple([node_info])\n",
    "\n",
    "\n",
    "#create the layout\n",
    "layout=go.Layout(\n",
    "    title='<b>Marvel Network: Hero Relationships',\n",
    "    titlefont=dict(size=16),\n",
    "    showlegend=False,\n",
    "    hovermode='closest',\n",
    "    margin=dict(b=20,l=5,r=5,t=40),\n",
    "    xaxis=dict(showgrid=False, zeroline=False, showticklabels=False),\n",
    "    yaxis=dict(showgrid=False, zeroline=False, showticklabels=False),\n",
    "    annotations=[\n",
    "        dict(\n",
    "        showarrow=False,\n",
    "        xref='paper',\n",
    "        yref='paper',\n",
    "        x=0,\n",
    "        y=0.05,\n",
    "        xanchor='left',\n",
    "        yanchor='bottom',\n",
    "        font=dict(\n",
    "        size=14\n",
    "        ))]\n",
    "    )\n",
    "\n",
    "\n",
    "#combine\n",
    "fig3 = go.Figure(data=[edge_trace3, node_trace_3], layout = layout)\n",
    "\n",
    "#plot offline\n",
    "#plotly.offline.plot(fig3, filename = \"SuperHeroNetwork2D.html\")\n",
    "\n",
    "iplot(fig3, filename='SuperHeroNetwork2D')"
   ]
  },
  {
   "cell_type": "markdown",
   "metadata": {
    "_uuid": "6a6c2c47d02c9f0d9c2dc5a2747de6ca98de483b"
   },
   "source": [
    "### Network Analysis\n",
    "The density of this network is much higher than the previous."
   ]
  },
  {
   "cell_type": "code",
   "execution_count": null,
   "metadata": {
    "_uuid": "3be04040bde2d79bb10b37f49922269eee814d46"
   },
   "outputs": [],
   "source": [
    "#aveage density \n",
    "print(nx.density(G2))"
   ]
  },
  {
   "cell_type": "markdown",
   "metadata": {
    "_uuid": "5331baa286bd300ffc24f65f0a81745d13788245"
   },
   "source": [
    "The clustering coeficient is relativly high, about 0.77.  This means nodes' neighbors are highly connected to one another."
   ]
  },
  {
   "cell_type": "code",
   "execution_count": null,
   "metadata": {
    "_uuid": "9f76d22f383d1735fadbeb575feadd5127b8dec1"
   },
   "outputs": [],
   "source": [
    "#average clustering -- 0.77\n",
    "print(nx.average_clustering(G2))"
   ]
  },
  {
   "cell_type": "markdown",
   "metadata": {
    "_uuid": "2d92aa8fb40d7747d69ca5e243faf10540ec9583"
   },
   "source": [
    "The following plot compares the average degree conectivity for nodes by their degree.  This is similar to the connectivity line plot made for the comic to character network."
   ]
  },
  {
   "cell_type": "code",
   "execution_count": null,
   "metadata": {
    "_uuid": "69966ce1f8a6f5a34b63810ba06d4cc51da785e1"
   },
   "outputs": [],
   "source": [
    "conectivity2 = pd.DataFrame(list(nx.average_degree_connectivity(G2).items()), columns=['degree', 'averagedegree']).sort_values(by=['degree'])\n",
    "\n",
    "#plot average degree conections\n",
    "trace_degree_2 = go.Scatter(\n",
    "    x = list(conectivity2['degree']),\n",
    "    y = list(conectivity2['averagedegree']),\n",
    "    mode = 'lines+markers',\n",
    "    name = 'Average Degrees'\n",
    ")\n",
    "\n",
    "layout=go.Layout(\n",
    "    title=\"<b>Marvel Character Network: Average Degree of Neighbors for Nodes of Given Degree\",\n",
    "    titlefont=dict(size=16),\n",
    "    showlegend=False,\n",
    "    hovermode='closest',\n",
    "    xaxis = dict(title = 'Node Degree (# of connections to node)', range=[0, 900]),\n",
    "    yaxis = dict(title = \"Average Degree of Neighbors (aveage # of connections for a nodes neighbors)\", range=[0, 550]) )\n",
    "\n",
    "fig = go.Figure(data=[trace_degree_2], layout = layout)\n",
    "\n",
    "#plot offline\n",
    "#plotly.offline.plot(fig, filename = \"ConectivityLinePlotCharacter.html\")\n",
    "iplot(fig, filename='ConectivityLinePlotCharacter')"
   ]
  },
  {
   "cell_type": "markdown",
   "metadata": {
    "_uuid": "ce6f0f7ce5e15d4187729c68d3c269c6ebae9c4b"
   },
   "source": [
    "The following plots look at nodes with the greatest degree as well as the highest betweenness.  Both a measures that can be used to determine how *important* a particular node is for a network."
   ]
  },
  {
   "cell_type": "code",
   "execution_count": null,
   "metadata": {
    "_uuid": "558c3f7edb153e7cad26a42d4e5515487246123a"
   },
   "outputs": [],
   "source": [
    "#Find character nodes with greatest number of degrees\n",
    "characterdegrees2 = []\n",
    "characterOrder2 = []\n",
    "for node, degree in G2.degree():\n",
    "    characterdegrees2.append(degree)\n",
    "    characterOrder2.append(node)\n",
    "\n",
    "charactersByDegree = pd.DataFrame({'character': characterOrder2, 'degree': characterdegrees2}).sort_values(by=['degree'], ascending = False)\n",
    "charactersByDegreeHead = charactersByDegree.head(15)\n",
    "\n",
    "ax = sns.barplot(x=charactersByDegreeHead.degree, y=charactersByDegreeHead.character,\n",
    "                 palette=\"Blues_d\")\n",
    "ax.set(xlabel='Character', ylabel='Degree')\n",
    "plt.show()\n",
    "\n",
    "\n",
    "# Betweenness centrality\n",
    "bet_cen = nx.betweenness_centrality(G2)\n",
    "\n",
    "betweeness_df = pd.DataFrame(list(bet_cen.items()), columns=['character', 'betweeness']).sort_values(by=['betweeness'], ascending = False)\n",
    "betweeness_dfHead = betweeness_df.head(15)\n",
    "\n",
    "ax2 = sns.barplot(x=betweeness_dfHead.betweeness, y=betweeness_dfHead.character,\n",
    "                 palette=\"Reds_d\")\n",
    "ax2.set(xlabel='Character', ylabel='Betweenness')\n",
    "plt.show()"
   ]
  },
  {
   "cell_type": "markdown",
   "metadata": {
    "_uuid": "847929240c3c7541a0630e1159064ae909c83b0a"
   },
   "source": [
    "## Subgraphs of the Character to Character Network\n",
    "The following analysis looks for possible clusters in the character network.  The Kernighan–Lin algorithm algorithm is used to break the network into two points.  According the the function's [documention](https://networkx.github.io/documentation/stable/reference/algorithms/generated/networkx.algorithms.community.kernighan_lin.kernighan_lin_bisection.html#networkx.algorithms.community.kernighan_lin.kernighan_lin_bisection), the algorithm \"...paritions a network into two sets by iteratively swapping pairs of nodes to reduce the edge cut between the two sets.\""
   ]
  },
  {
   "cell_type": "markdown",
   "metadata": {
    "_uuid": "15cb546a429c3c3be3be16dd3476d0371fe2594a"
   },
   "source": [
    "### Create the partioned Network\n",
    "Partition the network using the algorithm and create a new network object that contains both dijoint networks.  This code additonally creates the formatting for the network."
   ]
  },
  {
   "cell_type": "code",
   "execution_count": null,
   "metadata": {
    "_uuid": "5d3e60209a8bc1b9b8b92d2a804006ee84915edc"
   },
   "outputs": [],
   "source": [
    "sub_graphs = list(community.kernighan_lin_bisection(f2))\n",
    "\n",
    "#list of nodes\n",
    "sub1Nodes = list(sub_graphs[0])\n",
    "sub2Nodes = list(sub_graphs[1])\n",
    "\n",
    "#list of edges\n",
    "sub1Edges = [ (a,b) for a,b in combinations if (a in sub1Nodes) and (b in sub1Nodes) ] \n",
    "sub2Edges = [ (a,b) for a,b in combinations if (a in sub2Nodes) and (b in sub2Nodes) ] \n",
    "\n",
    "#combine edge and node list together, because I will plot on one graph\n",
    "totalEdges = sub1Edges + sub2Edges\n",
    "totalNodes = sub1Nodes + sub2Nodes\n",
    "\n",
    "#This graph is technically two graphs, you can see this by the decrease in the number of edges\n",
    "# compared to the origonal\n",
    "print(len(totalEdges))\n",
    "print(len(combinations))\n",
    "\n",
    "\n",
    "#Create networkx graphs for each subgraph\n",
    "#First subgraph\n",
    "G3=nx.Graph()\n",
    "\n",
    "#add nodes to graph\n",
    "G3.add_nodes_from(totalNodes)\n",
    "\n",
    "#add edges to graph\n",
    "G3.add_edges_from(totalEdges)\n",
    "\n",
    "#Set the 2-d layout type \n",
    "#************************** ~5 minutes on my computer\n",
    "pos_5 = nx.spring_layout(G3, dim = 2)"
   ]
  },
  {
   "cell_type": "markdown",
   "metadata": {
    "_uuid": "edab644ec0d6cb94145a28dfe195ce7cf0f0f87c"
   },
   "source": [
    "### Create 2-D Partitioned Character to Character Network"
   ]
  },
  {
   "cell_type": "code",
   "execution_count": null,
   "metadata": {
    "_uuid": "d05dc7b1ab331b8379fbaab4be8c2fa095da8d8d"
   },
   "outputs": [],
   "source": [
    "#create the edges\n",
    "edge_trace5 = go.Scatter(\n",
    "    x=[],\n",
    "    y=[],\n",
    "    line=dict(width=.3,color='#888'),\n",
    "    hoverinfo='none',\n",
    "    mode='lines')\n",
    "\n",
    "#add edge postions to trace\n",
    "edge_trace5['x'] = tuple(itertools.chain(*pd.Series(G3.edges()).apply(lambda x: returnxPositions(x, pos_5))))\n",
    "edge_trace5['y'] = tuple(itertools.chain(*pd.Series(G3.edges()).apply(lambda x: returnyPositions(x, pos_5))))\n",
    "\n",
    "\n",
    "#create the nodes (with the color based on # of connections)\n",
    "node_trace_5 = go.Scatter(\n",
    "    x=[],\n",
    "    y=[],\n",
    "    text=[],\n",
    "    mode='markers',\n",
    "    hoverinfo='text',\n",
    "    marker=dict(\n",
    "        showscale=True,\n",
    "        # colorscale options\n",
    "        #'Greys' | 'YlGnBu' | 'Greens' | 'YlOrRd' | 'Bluered' | 'RdBu' |\n",
    "        #'Reds' | 'Blues' | 'Picnic' | 'Rainbow' | 'Portland' | 'Jet' |\n",
    "        #'Hot' | 'Blackbody' | 'Earth' | 'Electric' | 'Viridis' |\n",
    "        colorscale='Blues',\n",
    "        reversescale=True,\n",
    "        color=[],\n",
    "        size=20,\n",
    "        colorbar=dict(\n",
    "            thickness=10,\n",
    "            title='Node Connections',\n",
    "            xanchor='right',\n",
    "            titleside='right'\n",
    "        ),\n",
    "        line=dict(width=2))    \n",
    "        )\n",
    "\n",
    "characterNodes = [x for x,y in G3.nodes(data=True)]\n",
    "for node in characterNodes:\n",
    "    x, y = pos_5[node]\n",
    "    node_trace_5['x'] += tuple([x])\n",
    "    node_trace_5['y'] += tuple([y])\n",
    "\n",
    "for node, adjacencies in G3.adjacency():\n",
    "        node_trace_5['marker']['color']+=tuple([len(adjacencies)])\n",
    "        node_info = ('Character: {character}<br>'+ '# of connections: {connections}<br>').format(\n",
    "                     character = str(node),\n",
    "                     connections = str(len(adjacencies)))\n",
    "        node_trace_5['text']+=tuple([node_info])\n",
    "\n",
    "\n",
    "#create the layout\n",
    "layout=go.Layout(\n",
    "    title='<b>Marvel Sub-Networks: Hero Relationships',\n",
    "    titlefont=dict(size=16),\n",
    "    showlegend=False,\n",
    "    hovermode='closest',\n",
    "    margin=dict(b=20,l=5,r=5,t=40),\n",
    "    xaxis=dict(showgrid=False, zeroline=False, showticklabels=False),\n",
    "    yaxis=dict(showgrid=False, zeroline=False, showticklabels=False),\n",
    "    annotations=[\n",
    "        dict(\n",
    "        showarrow=False,\n",
    "        xref='paper',\n",
    "        yref='paper',\n",
    "        x=0,\n",
    "        y=0.05,\n",
    "        xanchor='left',\n",
    "        yanchor='bottom',\n",
    "        font=dict(\n",
    "        size=14\n",
    "        ))]\n",
    "    )\n",
    "\n",
    "\n",
    "#combine\n",
    "fig5 = go.Figure(data=[edge_trace5, node_trace_5], layout = layout)"
   ]
  },
  {
   "cell_type": "markdown",
   "metadata": {
    "_uuid": "b443ff8dba467387b85f55665e3b3dd105d75edf"
   },
   "source": [
    "The following plot contains the partitioned networks.  One network is much less dense than the other.  This indicates some interesting realtionships between certain characters in the dense network."
   ]
  },
  {
   "cell_type": "code",
   "execution_count": null,
   "metadata": {
    "_uuid": "91cac462662125b891e8998f756850fc44edbb1f"
   },
   "outputs": [],
   "source": [
    "#plot offline\n",
    "#plotly.offline.plot(fig5, filename = \"SuperHeroSubNetworks2D.html\")\n",
    "iplot(fig5, filename='SuperHeroSubNetworks2D')"
   ]
  }
 ],
 "metadata": {
  "kernelspec": {
   "display_name": "Python 3",
   "language": "python",
   "name": "python3"
  },
  "language_info": {
   "codemirror_mode": {
    "name": "ipython",
    "version": 3
   },
   "file_extension": ".py",
   "mimetype": "text/x-python",
   "name": "python",
   "nbconvert_exporter": "python",
   "pygments_lexer": "ipython3",
   "version": "3.7.1"
  }
 },
 "nbformat": 4,
 "nbformat_minor": 2
}
